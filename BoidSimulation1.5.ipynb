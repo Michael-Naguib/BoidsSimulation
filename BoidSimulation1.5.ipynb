{
 "cells": [
  {
   "cell_type": "markdown",
   "metadata": {},
   "source": [
    "# Boid Simulation 1.5\n",
    "- I am eager to view a swarm in 3d after having figured out how to use open 3d to do so, my old code can be modified to precompute the positions then playback the *frames*\n",
    "- Code by Michael Naguib 8/8/19"
   ]
  },
  {
   "cell_type": "markdown",
   "metadata": {},
   "source": [
    "### Imports"
   ]
  },
  {
   "cell_type": "code",
   "execution_count": 2,
   "metadata": {},
   "outputs": [],
   "source": [
    "#imports\n",
    "from tkinter import *\n",
    "from BoidSwarm import BoidSwarm\n",
    "from Vector import Vector\n",
    "import time\n",
    "import tqdm\n",
    "import math\n",
    "import copy\n",
    "import numpy as np"
   ]
  },
  {
   "cell_type": "markdown",
   "metadata": {},
   "source": [
    "### Run a similation in window live time"
   ]
  },
  {
   "cell_type": "code",
   "execution_count": 2,
   "metadata": {
    "scrolled": true
   },
   "outputs": [
    {
     "ename": "TclError",
     "evalue": "invalid command name \".!canvas\"",
     "output_type": "error",
     "traceback": [
      "\u001b[1;31m---------------------------------------------------------------------------\u001b[0m",
      "\u001b[1;31mTclError\u001b[0m                                  Traceback (most recent call last)",
      "\u001b[1;32m<ipython-input-2-81ec989cb32b>\u001b[0m in \u001b[0;36m<module>\u001b[1;34m\u001b[0m\n\u001b[0;32m     19\u001b[0m \u001b[1;31m#=== Enter the main loop\u001b[0m\u001b[1;33m\u001b[0m\u001b[1;33m\u001b[0m\u001b[1;33m\u001b[0m\u001b[0m\n\u001b[0;32m     20\u001b[0m \u001b[1;32mwhile\u001b[0m \u001b[1;32mTrue\u001b[0m\u001b[1;33m:\u001b[0m\u001b[1;33m\u001b[0m\u001b[1;33m\u001b[0m\u001b[0m\n\u001b[1;32m---> 21\u001b[1;33m     \u001b[0mgraph\u001b[0m\u001b[1;33m.\u001b[0m\u001b[0mdelete\u001b[0m\u001b[1;33m(\u001b[0m\u001b[0mALL\u001b[0m\u001b[1;33m)\u001b[0m\u001b[1;31m#                  Clear the screen\u001b[0m\u001b[1;33m\u001b[0m\u001b[1;33m\u001b[0m\u001b[0m\n\u001b[0m\u001b[0;32m     22\u001b[0m     \u001b[0mwork\u001b[0m\u001b[1;33m(\u001b[0m\u001b[1;33m)\u001b[0m\u001b[1;33m\u001b[0m\u001b[1;33m\u001b[0m\u001b[0m\n\u001b[0;32m     23\u001b[0m     \u001b[0mmySwarm\u001b[0m\u001b[1;33m.\u001b[0m\u001b[0mdraw_swarm\u001b[0m\u001b[1;33m(\u001b[0m\u001b[0mgraph\u001b[0m\u001b[1;33m)\u001b[0m\u001b[1;31m#          Draw the swarm\u001b[0m\u001b[1;33m\u001b[0m\u001b[1;33m\u001b[0m\u001b[0m\n",
      "\u001b[1;32m~\\AppData\\Local\\Continuum\\anaconda3\\envs\\General\\lib\\tkinter\\__init__.py\u001b[0m in \u001b[0;36mdelete\u001b[1;34m(self, *args)\u001b[0m\n\u001b[0;32m   2512\u001b[0m     \u001b[1;32mdef\u001b[0m \u001b[0mdelete\u001b[0m\u001b[1;33m(\u001b[0m\u001b[0mself\u001b[0m\u001b[1;33m,\u001b[0m \u001b[1;33m*\u001b[0m\u001b[0margs\u001b[0m\u001b[1;33m)\u001b[0m\u001b[1;33m:\u001b[0m\u001b[1;33m\u001b[0m\u001b[1;33m\u001b[0m\u001b[0m\n\u001b[0;32m   2513\u001b[0m         \u001b[1;34m\"\"\"Delete items identified by all tag or ids contained in ARGS.\"\"\"\u001b[0m\u001b[1;33m\u001b[0m\u001b[1;33m\u001b[0m\u001b[0m\n\u001b[1;32m-> 2514\u001b[1;33m         \u001b[0mself\u001b[0m\u001b[1;33m.\u001b[0m\u001b[0mtk\u001b[0m\u001b[1;33m.\u001b[0m\u001b[0mcall\u001b[0m\u001b[1;33m(\u001b[0m\u001b[1;33m(\u001b[0m\u001b[0mself\u001b[0m\u001b[1;33m.\u001b[0m\u001b[0m_w\u001b[0m\u001b[1;33m,\u001b[0m \u001b[1;34m'delete'\u001b[0m\u001b[1;33m)\u001b[0m \u001b[1;33m+\u001b[0m \u001b[0margs\u001b[0m\u001b[1;33m)\u001b[0m\u001b[1;33m\u001b[0m\u001b[1;33m\u001b[0m\u001b[0m\n\u001b[0m\u001b[0;32m   2515\u001b[0m     \u001b[1;32mdef\u001b[0m \u001b[0mdtag\u001b[0m\u001b[1;33m(\u001b[0m\u001b[0mself\u001b[0m\u001b[1;33m,\u001b[0m \u001b[1;33m*\u001b[0m\u001b[0margs\u001b[0m\u001b[1;33m)\u001b[0m\u001b[1;33m:\u001b[0m\u001b[1;33m\u001b[0m\u001b[1;33m\u001b[0m\u001b[0m\n\u001b[0;32m   2516\u001b[0m         \"\"\"Delete tag or id given as last arguments in ARGS from items\n",
      "\u001b[1;31mTclError\u001b[0m: invalid command name \".!canvas\""
     ]
    }
   ],
   "source": [
    "    HEIGHT = 600\n",
    "    WIDTH = round(HEIGHT * 1.6180339) # preserve a nice aspect ratio by using phi= THE GOLDEN RATIO (one of my favorite numbers)\n",
    "    DEPTH = HEIGHT\n",
    "    QUANTITY=900\n",
    "\n",
    "    #=== Setup the Graphics\n",
    "    screen_dim = Vector([WIDTH,HEIGHT,DEPTH])\n",
    "    root = Tk()\n",
    "    root.geometry('%dx%d+%d+%d' % (WIDTH, HEIGHT, (root.winfo_screenwidth() - WIDTH) / 2, (root.winfo_screenheight() - HEIGHT) / 2))\n",
    "    root.bind_all('<Escape>', lambda event: event.widget.quit())\n",
    "    graph = Canvas(root, width=WIDTH, height=HEIGHT, background='white')\n",
    "    graph.pack()\n",
    "\n",
    "    #=== Setup the swarm\n",
    "    mySwarm = BoidSwarm(QUANTITY,screen_dim)\n",
    "    mySwarm.setup()\n",
    "    def work():\n",
    "        mySwarm.update_boid_positions()  # Run the Boid Calculation\n",
    "    #=== Enter the main loop\n",
    "    while True:\n",
    "        graph.delete(ALL)#                  Clear the screen\n",
    "        work()\n",
    "        mySwarm.draw_swarm(graph)#          Draw the swarm\n",
    "        graph.update()#                     Update the screen"
   ]
  },
  {
   "cell_type": "markdown",
   "metadata": {},
   "source": [
    "### Simulation Setup For a Precomputed Simulation"
   ]
  },
  {
   "cell_type": "code",
   "execution_count": 3,
   "metadata": {},
   "outputs": [
    {
     "name": "stdout",
     "output_type": "stream",
     "text": [
      "The Similation will last about: 0.06 min\n"
     ]
    }
   ],
   "source": [
    "#=== Settings\n",
    "HEIGHT = 600\n",
    "WIDTH = round(HEIGHT * 1.6180339) # preserve a nice aspect ratio by using phi= THE GOLDEN RATIO (one of my favorite numbers)\n",
    "DEPTH = HEIGHT\n",
    "QUANTITY=500\n",
    "BOIDCOLOR='black'\n",
    "BOIDSCALE=5\n",
    "timeDelay = 0.02 # 0.5=half second ... used to space out each frame in the playback\n",
    "#Number of desired frames to compute...\n",
    "K = int(math.pow(10,2)*2)\n",
    "runtime = int(100*K*timeDelay/60.0)/100\n",
    "print(\"The Similation will last about: {0} min\".format(str(runtime)))"
   ]
  },
  {
   "cell_type": "code",
   "execution_count": 4,
   "metadata": {},
   "outputs": [],
   "source": [
    "#=== Setup the Graphics\n",
    "screen_dim = Vector([WIDTH,HEIGHT,DEPTH])\n",
    "root = Tk()\n",
    "root.geometry('%dx%d+%d+%d' % (WIDTH, HEIGHT, (root.winfo_screenwidth() - WIDTH) / 2, (root.winfo_screenheight() - HEIGHT) / 2))\n",
    "root.bind_all('<Escape>', lambda event: event.widget.quit())\n",
    "graph = Canvas(root, width=WIDTH, height=HEIGHT, background='white')\n",
    "graph.pack()\n",
    "\n",
    "#=== Setup the swarm\n",
    "mySwarm = BoidSwarm(QUANTITY,screen_dim)\n",
    "mySwarm.setup()"
   ]
  },
  {
   "cell_type": "markdown",
   "metadata": {},
   "source": [
    "### Draw Positions Func"
   ]
  },
  {
   "cell_type": "code",
   "execution_count": 5,
   "metadata": {},
   "outputs": [],
   "source": [
    "#A modified version of the boid draw function\n",
    "def drawPos(tkinter_canvas,posLst,scale,color):\n",
    "    '''\n",
    "    :description: takes a tkinter canvas and draws a representation of the boid to the canvas (only does 2d...)\n",
    "    :param tkinter_canvas: a tkinter canvas object\n",
    "    '''\n",
    "    #draw a circle whose center is at the current position of the boid and with a radius of the scale factor..\n",
    "    d2Cord = (posLst[0]+ scale,\n",
    "              posLst[1]+ scale,\n",
    "              posLst[0]- scale,\n",
    "              posLst[1]- scale)\n",
    "    #draw the boid ... note using syntatic sugar for position update\n",
    "    tkinter_canvas.create_oval(d2Cord,fill=color)"
   ]
  },
  {
   "cell_type": "markdown",
   "metadata": {},
   "source": [
    "### Precompute Running the simulation for K frames..."
   ]
  },
  {
   "cell_type": "code",
   "execution_count": 6,
   "metadata": {},
   "outputs": [
    {
     "name": "stderr",
     "output_type": "stream",
     "text": [
      "100%|████████████████████████████████████████| 200/200 [03:40<00:00,  1.01s/it]\n"
     ]
    }
   ],
   "source": [
    "#Each frame holds a list of position vectors\n",
    "positionFrameHistory=[]#very big list...\n",
    "\n",
    "#Run the simulation\n",
    "for i in tqdm.tqdm(range(0,K)):\n",
    "    #Calculate the Frame\n",
    "    mySwarm.update_boid_positions()  # Run the Boid Calculation\n",
    "    posData = [copy.deepcopy(agent.pos.components) for agent in mySwarm.boid_list]#only take components\n",
    "    positionFrameHistory.append(posData)"
   ]
  },
  {
   "cell_type": "markdown",
   "metadata": {},
   "source": [
    "### Playback the Simulation 2D"
   ]
  },
  {
   "cell_type": "code",
   "execution_count": 6,
   "metadata": {},
   "outputs": [],
   "source": [
    "#=== Enter the main loop\n",
    "for frame in positionFrameHistory:\n",
    "    graph.delete(ALL)#                  Clear the screen\n",
    "    mySwarm.update_boid_positions()  # Run the Boid Calculation\n",
    "    for posLst in frame:\n",
    "        drawPos(graph,posLst,BOIDSCALE,BOIDCOLOR)\n",
    "    graph.update()#                     Update the screen"
   ]
  },
  {
   "cell_type": "markdown",
   "metadata": {},
   "source": [
    "### Play Back the simulation 3d"
   ]
  },
  {
   "cell_type": "code",
   "execution_count": 7,
   "metadata": {},
   "outputs": [],
   "source": [
    "import open3d\n",
    "import time\n",
    "import numpy as np\n",
    "pcd = open3d.PointCloud()\n",
    "\n",
    "vis = open3d.Visualizer()\n",
    "vis.create_window()\n",
    "vis.add_geometry(pcd)\n",
    "\n",
    "#Setup the initial frame\n",
    "pcd.points = open3d.Vector3dVector(positionFrameHistory[0])\n",
    "pcd.colors = open3d.Vector3dVector([[0,0,0] for i in range(0,len(positionFrameHistory[0]))])\n",
    "\n",
    "render_option = vis.get_render_option()\n",
    "render_option.point_size = 5#0.01\n",
    "#precompute\n",
    "for i in range(1,len(positionFrameHistory)):\n",
    "    positionFrameHistory[i]=open3d.Vector3dVector(positionFrameHistory[i])\n",
    "#render_option.point_color_option = open3d.visualization.PointColorOption.Normal\n",
    "to_reset_view_point = True\n",
    "for i in range(1,len(positionFrameHistory)):    \n",
    "    pcd.points = positionFrameHistory[i]\n",
    "    vis.update_geometry()\n",
    "    if to_reset_view_point:\n",
    "        vis.reset_view_point(True)\n",
    "        to_reset_view_point = False\n",
    "    vis.poll_events()\n",
    "    vis.update_renderer()\n",
    "    time.sleep(timeDelay)# could be interpreted as frames per second assuming the calculation is instant and retrieval is as well\n",
    "\n",
    "vis.destroy_window()"
   ]
  },
  {
   "cell_type": "code",
   "execution_count": null,
   "metadata": {},
   "outputs": [],
   "source": [
    "#"
   ]
  }
 ],
 "metadata": {
  "kernelspec": {
   "display_name": "Python 3",
   "language": "python",
   "name": "python3"
  },
  "language_info": {
   "codemirror_mode": {
    "name": "ipython",
    "version": 3
   },
   "file_extension": ".py",
   "mimetype": "text/x-python",
   "name": "python",
   "nbconvert_exporter": "python",
   "pygments_lexer": "ipython3",
   "version": "3.7.3"
  }
 },
 "nbformat": 4,
 "nbformat_minor": 2
}
