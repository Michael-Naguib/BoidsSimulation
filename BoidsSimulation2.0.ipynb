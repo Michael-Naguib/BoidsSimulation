{
 "cells": [
  {
   "cell_type": "markdown",
   "metadata": {},
   "source": [
    "# Boids Simulation 2.0:\n",
    "- The first simulation I wrote worked however it suffered from computational complexity O(n^2) for the distance calculations\n",
    "- This code uses a different programming paradigm so that it can take advantage of certain computational advantages such as the parallelism of the GPU, Multiprocessing on multiple CPU cores, more efficient algorithms such as the Barnes Hut and more useful datastructures such as the KDTree. \n",
    "- Code by Michael Sherif naguib 7/22/19"
   ]
  },
  {
   "cell_type": "markdown",
   "metadata": {},
   "source": [
    "### Imports"
   ]
  },
  {
   "cell_type": "code",
   "execution_count": 4,
   "metadata": {},
   "outputs": [],
   "source": [
    "#imports (may take some time...)\n",
    "from __future__ import print_function#A requirement of ipywidgets\n",
    "from ipywidgets import interact, interactive, fixed, interact_manual# A python library for GUI interaction\n",
    "from scipy.spatial import KDTree as KDTree# A library for constructing and querying a KDTree\n",
    "import ipywidgets as widgets# A python library for GUI interaction\n",
    "from numba import cuda, jit# An optimization library that can speed up code and even run on GPU\n",
    "from tkinter import *# Python's library for creating GUI\n",
    "import math# Python's library for math functions etc,,,\n",
    "import random# Python's library for random numbers\n",
    "import tqdm# A progress logger bar library for iteration etc...\n",
    "import pptk# Static 3d point cloud visualization lib for large 10mil+ datapoints\n",
    "import time# Python Library for time related things\n",
    "import open3d# A library for LIDAR point cloud visualization and so much more 1k points\n",
    "import numpy as np"
   ]
  },
  {
   "cell_type": "markdown",
   "metadata": {},
   "source": [
    "### Utilities & Etc Needed for Settings"
   ]
  },
  {
   "cell_type": "code",
   "execution_count": 5,
   "metadata": {},
   "outputs": [],
   "source": [
    "phi = (1 + math.sqrt(5))/2#Prespecify a useful constant: The Golden Ratio\n",
    "def softmax(inputList,b=1):#Calculate the softmax values for a list returning a new list\n",
    "    #inputList: a list of numbers to calculate the corresponding softmax values for\n",
    "    #b=1: a default value saying to use e as the base of exponentiation ... see this wikipedia article for info\n",
    "    #     https://en.wikipedia.org/wiki/Softmax_function\n",
    "    assert( not(len(inputList)==0))\n",
    "    expSum = sum([math.exp(inputList[i]) for i in range(0,len(inputList))])#Sum e^x_i\n",
    "    #note! could cache the exp calculations for e^x_i ... might save computationally especially if x_i is 'large'\n",
    "    return [math.exp(inputList[i])/expSum for i in range(0,len(inputList))]# x_i --> e^x_i/(sum)     "
   ]
  },
  {
   "cell_type": "markdown",
   "metadata": {},
   "source": [
    "### Settings"
   ]
  },
  {
   "cell_type": "code",
   "execution_count": 6,
   "metadata": {},
   "outputs": [],
   "source": [
    "#================ SETTINGS\n",
    "#=== Boid Quantity\n",
    "boidQuantity = int(math.pow(10,2))#                                      Quantity of boids in simulation\n",
    "#=== Screen Display\n",
    "height = 400 #                                                           Screen height \n",
    "dimensions = 3#                                                          Dimensions ex. 2D x,y 3D x,y,z (inclusive..)\n",
    "posMax = np.array([height,int(height*phi),int(height*phi)])#             World bounds for Positions x,y,z max \n",
    "posMin = np.zeros(3)#                                                    x,y,z min ... use golden ratio for nice view\n",
    "assert(posMin.size == posMax.size == dimensions)#         (err check)\n",
    "#=== Kinematics \n",
    "maxForceMag = 2*math.pow(math.pi,2)#                                     Maximum magnitude for force update\n",
    "maxAccelMag = math.pow(math.pi,2)#                                       Maximum magnitude for acceleration update\n",
    "maxVelMag = math.pi#                                                     Maximum magnitude for velocity update\n",
    "#=== Boid Properties\n",
    "mass = np.ones(boidQuantity)#np.random.uniform(low=0.0001,high=2.0,size=boidQuantity)#         sets the mass of the boid\n",
    "active = np.random.randint(0,high=2,size=boidQuantity,dtype=bool)#            an easy way to dynamically set a boid as active in the simulation\n",
    "geneCountPer = 5#                                                        specifies allocation for the gene...\n",
    "genomes = np.random.rand(boidQuantity,geneCountPer)#                     so we can run a genetic algorithm\n",
    "boidScale = 1#                                                           the size of the dot to draw representing it\n",
    "#=== Rule Distances\n",
    "ruleCount = 3\n",
    "maxDist = (1/2)*(math.sqrt(sum([math.pow(posMax[i]-posMin[i],2) for i in range(dimensions)])))# max dist = world bound max /2 because it wraps\n",
    "minDist = 1\n",
    "ruleDistances = np.random.uniform(low=minDist,high=maxDist,size=(boidQuantity,ruleCount))\n",
    "#=== Screen Settings\n",
    "backgroundColor = 'white'\n",
    "boidColor = 'black'\n",
    "#=== Rule Settings\n",
    "''' \n",
    "    We want the forces to interact in a relative manner ==> i.e one force is stronger than the other to a certain degree\n",
    "    Therfore we can use the softmax function to convert our forces to a distribution\n",
    "    Returns a new list containing the results of the softmax function on each... b sets for different bases default e=> b=1\n",
    "'''\n",
    "ruleList = []# a list holding the customized rule functions... (see section for initing these...)\n",
    "distance_scale = 50 # set the influence zone... #order: Cohere,aligm,seperate\n",
    "ruleDistances= [distance_scale*normDist for normDist in softmax([1,0.75,0.5])]#make the distances relative scaled by some factor\n",
    "ruleWeights = softmax([0.5,0.2,0.6])#Make the weight relative..."
   ]
  },
  {
   "cell_type": "markdown",
   "metadata": {},
   "source": [
    "### Initilization & Setup"
   ]
  },
  {
   "cell_type": "code",
   "execution_count": 7,
   "metadata": {},
   "outputs": [],
   "source": [
    "#=== Init Kinematics Rand\n",
    "pos = []\n",
    "#distanceMatrix = np.zeros(boidQuantity,boidQuantity)#                    init a matrix of 0's for positions...  (NOT NEEDED SINCE USING KD TREE...)                  \n",
    "vel = [np.random.rand(dimensions) for _ in range(boidQuantity)]#        init random vals on 0,1\n",
    "accel = [np.random.rand(dimensions) for _ in range(boidQuantity)]#      init random vals on 0,1\n",
    "for i in range(dimensions):#                                             init random positions in bound\n",
    "    pos.append(np.random.uniform(low=posMin[i],high=posMax[i],size=boidQuantity))\n",
    "for b in range(boidQuantity):#                                         init random velocities \n",
    "    #Convert to Unit Vector and scale according to random withine max\n",
    "    l = math.sqrt(sum([math.pow(vel[b][i],2) for i in range(dimensions)]))\n",
    "    r = maxVelMag*random.random()\n",
    "    for i in range(dimensions):\n",
    "        vel[b][i] = (vel[b][i]/l)*r       \n",
    "for b in range(boidQuantity):#                                         init random accelerations \n",
    "    #Convert to Unit Vector and scale according to random withine max\n",
    "    l = math.sqrt(sum([math.pow(accel[b][i],2) for i in range(dimensions)]))\n",
    "    r = maxVelMag*random.random()\n",
    "    for i in range(dimensions):\n",
    "        accel[b][i] = (accel[b][i]/l)*r\n",
    "for _ in range(0,boidQuantity):#                                         init positions\n",
    "    pos.append(np.array([random.randint(posMin[i],posMax[i]) for i in range(0,dimensions)]))"
   ]
  },
  {
   "cell_type": "markdown",
   "metadata": {},
   "source": [
    "### Create objects for: Initial Data, Settings, Configurations"
   ]
  },
  {
   "cell_type": "code",
   "execution_count": 8,
   "metadata": {},
   "outputs": [],
   "source": [
    "#Make it easier to pass all the data to the simulation class and access it withine that class\n",
    "initdata = {# intial data as well as storage for the calculation (will be modified during the calculation)\n",
    "    \"position\":pos,\n",
    "    \"velocity\":vel,\n",
    "    \"acceleration\":accel,#technically not needed.... more for observational purposes... if desired\n",
    "    \"mass\":mass\n",
    "}\n",
    "settings={# the settings for running the simulation\n",
    "    \"boidQuantity\":boidQuantity,\n",
    "    \"minPositions\":posMin,\n",
    "    \"maxPositions\":posMax,\n",
    "    \"maxForceMag\":maxForceMag,\n",
    "    \"maxAccelerationMag\":maxAccelMag,\n",
    "    \"maxVelocityMag\":maxVelMag,\n",
    "    \"boidScale\":boidScale,\n",
    "    \"active\":active,\n",
    "    \"boidColor\":boidColor\n",
    "}\n",
    "configurations={# the configured rules for the interactions...\n",
    "    \"ruleList\":ruleList,\n",
    "    \"ruleDistances\":ruleDistances,\n",
    "    \"ruleWeights\":ruleWeights\n",
    "}"
   ]
  },
  {
   "cell_type": "markdown",
   "metadata": {},
   "source": [
    "### Screen Setup & Definitions for Functions"
   ]
  },
  {
   "cell_type": "code",
   "execution_count": 9,
   "metadata": {},
   "outputs": [],
   "source": [
    "#================ Screen Defs\n",
    "def createGraph(posMax,posMin,backgroundColor):#Create a tkinter canvas to draw to...\n",
    "    #Creates a tkinter canvas with the specified properties:\n",
    "    #posMin: a vector (as a list) contiaining the minimum bounds for the screen in the x,y,z ... k for any n dimensional vector\n",
    "    #posMax: a vector (as a list) contiaining the minimum bounds for the screen in the x,y,z ... k for any n dimensional vector\n",
    "    #backgroundColor: the background color of the canvas specified by color name string 'white' or by rgb array (255,255,255)\n",
    "    root = Tk()\n",
    "    _width,_height = (posMax[0]-posMin[0]),(posMax[1]-posMax[1])\n",
    "    root.geometry('%dx%d+%d+%d' % (_width, _height, (root.winfo_screenwidth() - _width) / 2, (root.winfo_screenheight() - _height) / 2))\n",
    "    root.bind_all('<Escape>', lambda event: event.widget.quit())\n",
    "    graph = Canvas(root, width=_width, height=_height, background=backgroundColor)\n",
    "    graph.pack()\n",
    "    return graph\n",
    "def drawBoids(tkinter_graph,posList,activeList,boidScale,boidColor):#Draw the Boids\n",
    "    #this function takes a tinketer canvas (graph) and looks at all the positions posList and if the \n",
    "    #item is active  (specified by ) activeList 1=active 0=not then it draws the boid as a circle at that\n",
    "    #position with the scale and color specified.. scale and color is shared among all the boids...\n",
    "    #(NOTE) depending on how the code for the simulation utilizes the CPU it might be beneficial to \n",
    "    #run the graph drawing in a separate thread then syncronize before the next loop ==> i.e let the next calculation\n",
    "    #run while the previous is being drawn or something in this manner\n",
    "    #=== Draw the swarm\n",
    "    graph.delete(ALL)#                  Clear the previous screen\n",
    "    for p in posList:#for every position ==> O(n)\n",
    "        if activeList[i]==1:#if the boid is active...\n",
    "            #draw a circle whose center is at the current position of the boid and with a radius of the scale factor..\n",
    "            d2Cord = (p[0] + boidScale,#lower left x     the coordinates for the bounding corners of the circle\n",
    "                      p[1] +boidScale,#lower left y      this keeps the boid in the center\n",
    "                      p[0] - boidScale,#upper right x\n",
    "                      p[1] - boidScale)#upper right y\n",
    "            #draw the boid ... note using syntatic sugar for position update\n",
    "            tkinter_graph.create_oval(d2Cord,fill=boidColor)\n",
    "    graph.update()#Update the screen..."
   ]
  },
  {
   "cell_type": "markdown",
   "metadata": {},
   "source": [
    "### Boid Utilities (Old Code Modified)"
   ]
  },
  {
   "cell_type": "code",
   "execution_count": 10,
   "metadata": {},
   "outputs": [],
   "source": [
    "class BoidUtils:\n",
    "    def __init__(self):\n",
    "        pass\n",
    "    @staticmethod\n",
    "    def calcMag(npArray):\n",
    "        return math.sqrt(sum([math.pow(npArray[i],2) for i in range(npArray.size())]))\n",
    "    @staticmethod\n",
    "    def limitMag(npArray,maxMag):\n",
    "        mag = BoidUtils.calcMag(npArray)\n",
    "        if mag>maxMag:\n",
    "            return npArray*(maxMag/mag)\n",
    "        else:\n",
    "            return npArray\n",
    "    #=== Predefined Update rules! these may be used withine the BoidSwarm ... custom rules can be added...\n",
    "    @staticmethod\n",
    "    def CohereForce(boidIdx,dataObject,calculatedNeighborsIdxs,sett,conf,ruleIdx):# ALL RULES IMPLEMENT THIS SAME ARGs SIGNATURE\n",
    "        '''\n",
    "        :description: calculates the limited weighted coherernce force for a given boid \n",
    "        :param boidIdx: the index of the current boid for which the calculation is being done\n",
    "        :param dataObject: a dictionary containing: position:[[x,y,z]...] velocity:[[x,y,z]...] ... etc... acceleration mass\n",
    "        :param calculatedNeighborsIdx: a list of indicies for the position list containing the neighboring positions \n",
    "        :param sett:  the setting object reference\n",
    "        :param conf: the config object reference\n",
    "        :param ruleIdx: the index of the configuration weights for this rule...\n",
    "        :return: the force to be applied limited by etc...\n",
    "        '''        \n",
    "        # store\n",
    "        pos_sum = np.zeros(len(dataObject[\"position\"][0]))# i.e if it is xyz ==> 3 xy==> the dimension of the vector...\n",
    "        count = len(calculatedNeighborsIdxs)\n",
    "        #if no neighbors then break returning zeros...\n",
    "        if count==0:\n",
    "            return pos_sum\n",
    "        #iterate over the neighbors indicies\n",
    "        for nIndex in calculatedNeighborsIdxs:\n",
    "            #Calculate the center position weighted by mass\n",
    "            pos_sum= np.add(pos_sum,dataObject[\"position\"][nIndex]*dataObject[\"mass\"][nIndex]) \n",
    "        #Calculate the target and return the limited weighted force\n",
    "        target = pos_sum * (1/count)\n",
    "        desired = BoidUtils.limitMag(np.subtract(target,dataObject[\"position\"][boidIdx]),sett[\"maxVelocityMag\"])\n",
    "        steer = np.subtract(desired,dataObject[\"velocity\"][boidIdx])\n",
    "        return conf[\"ruleWeight\"][ruleIdx]*BoidUtils.limitMag(steer,sett[\"maxForceMag\"])#note rule weight always on [0,1]\n",
    "            \n",
    "    @staticmethod\n",
    "    def SeparateForce(boidIdx,dataObject,calculatedNeighborsIdxs,sett,conf,ruleIdx):\n",
    "        # store\n",
    "        pos_sum = np.zeros(len(dataObject[\"position\"][0]))# i.e if it is xyz ==> 3 xy==> the dimension of the vector...\n",
    "        count = len(calculatedNeighborsIdxs)\n",
    "        #if no neighbors then break returning zeros...\n",
    "        if count==0:\n",
    "            return pos_sum\n",
    "        #iterate over the neighbors indicies\n",
    "        for nIndex in calculatedNeighborsIdxs:\n",
    "            #Calculate the center position weighted by mass\n",
    "            diff = np.subtract(dataObject[\"position\"][boidIndx],dataObject[\"position\"][nIndex])\n",
    "            edgeDist = BoidUtils.calcMag(diff)# the distance between the points\n",
    "            pos_sum= np.add(pos_sum,diff*(1/(math.pow(edgeDist,2))))# equivilant to taking the norm of diff then weighing it by 1/edgedist\n",
    "        #Calculate the target and return the limited weighted force\n",
    "        target = pos_sum * (1/count)\n",
    "        steer = np.subtract((sett[\"maxVelocityMag\"]/BoidUtil.calcMag(target))*target,dataObject[\"velocity\"][boidIdx])        \n",
    "        return conf[\"ruleWeight\"][ruleIdx]*BoidUtils.limitMag(steer,sett[\"maxForceMag\"])#note rule weight always on [0,1]    \n",
    "    \n",
    "    @staticmethod\n",
    "    def  AlignForce(boidIdx,dataObject,calculatedNeighborsIdxs,sett,conf,ruleIdx):\n",
    "        # store\n",
    "        vel_sum = np.zeros(len(dataObject[\"velocity\"][0]))# i.e if it is xyz ==> 3 xy==> the dimension of the vector...\n",
    "        count = len(calculatedNeighborsIdxs)\n",
    "        #if no neighbors then break returning zeros...\n",
    "        if count==0:\n",
    "            return vel_sum\n",
    "        #iterate over the neighbors indicies\n",
    "        for nIndex in calculatedNeighborsIdxs:\n",
    "            vel_sum= np.add(vel_sum,dataObject[\"velocity\"][nIndex]) \n",
    "        #Calculate the target and return the limited weighted force\n",
    "        target = vel_sum * (1/count)\n",
    "        steer = np.add((sett[\"maxVelocityMag\"]/BoidUtil.calcMag(target))*target,dataObject[\"velocity\"][boidIdx])        \n",
    "        return conf[\"ruleWeight\"][ruleIdx]*BoidUtils.limitMag(steer,sett[\"maxForceMag\"])#note rule weight always on [0,1]\n",
    "    @staticmethod\n",
    "    def WallForce(boidIdx,dataObject,calculatedNeighborsIdxs,sett,conf,ruleIdx):\n",
    "        # if a boid goes out of bounds for a certain dimension add a force in the opposite direction...  that is\n",
    "        # polynimially proportional to the distance==> max force seams like a good cap...\n",
    "        force = np.zeros(len(dataObject[\"velocity\"][0]))\n",
    "        #for each component of the boids position make a force that increases polynomially with the distance past the bounds...\n",
    "        for dim in range(force.size()):#for each component\n",
    "            if dataObject[\"position\"][boidIdx][dim] < sett[\"minPosition\"][dim]: \n",
    "                force[dim] += math.pow(sett[\"minPosition\"][dim] - dataObject[\"position\"][boidIdx][dim],2)\n",
    "            if dataObject[\"position\"][boidIdx][dim] > sett[\"maxPosition\"][dim]: \n",
    "                force[dim] += math.pow(dataObject[\"position\"][boidIdx][dim]-sett[\"maxPosition\"][dim],2)\n",
    "        #NOTE WALLFORCE IS NOT LIMITED ... We create an opposing force that grows with the squared distance in each dim\n",
    "        return force\n",
    "        "
   ]
  },
  {
   "cell_type": "markdown",
   "metadata": {},
   "source": [
    "### Rule Definitions & Config"
   ]
  },
  {
   "cell_type": "code",
   "execution_count": 11,
   "metadata": {},
   "outputs": [],
   "source": [
    "#================ Setup The Boid Rules...\n",
    "configurations[\"ruleList\"].append(BoidUtils.CohereForce)\n",
    "configurations[\"ruleList\"].append(BoidUtils.AlignForce)\n",
    "configurations[\"ruleList\"].append(BoidUtils.SeparateForce)\n",
    "assert(len(configurations[\"ruleList\"])==len(configurations[\"ruleWeights\"])==len(configurations[\"ruleDistances\"]))#err check\n",
    "\n",
    "#Special force for bounding the simulation\n",
    "configurations[\"ruleList\"].append(BoidUtils.WallForce)#NO WEIGHT or DISTANCE IS USED WITH THIS FORCE"
   ]
  },
  {
   "cell_type": "markdown",
   "metadata": {},
   "source": [
    "### Boid Simulation Class"
   ]
  },
  {
   "cell_type": "code",
   "execution_count": 12,
   "metadata": {},
   "outputs": [],
   "source": [
    "class BoidSimulation():\n",
    "    def __init__(self,dat,sett,conf,recordPositionHistory=False):\n",
    "        self.dat = dat\n",
    "        self.sett = sett\n",
    "        self.conf = conf\n",
    "        self.rph = recordPositionHistory\n",
    "        self.ph = []#position history ... updated after each timestep if applicable (assumes no changes to active durring game)\n",
    "\n",
    "    def time_step(self):#Runs a timestep of the simulation... \n",
    "        #=== Calculate the next timestep for the swarm\n",
    "        #TODO\n",
    "        # build KD tree O(nlogn)\n",
    "        # Query tree for each boid(n boids) for each rule (k rules) ==> O(nklogn) < O(n^2)  \n",
    "        #                                   (note k is a constant and for most k where k is small)\n",
    "        # Calculate the forces for all of the points returned by the querying criteria O(cnk) (where c = the average # of points returned for each...)\n",
    "        # Bound the positions,velocities,accelerations O(n)\n",
    "        tree = KDTree(pos)\n",
    "        \n",
    "        #Calculate the neighbors for each ruleset for each boid all in parallel?\n",
    "        #Calculate the position updates in parallel...?\n",
    "        for i in range(0,len(self.sett[\"boidQuanity\"])):# n boids\n",
    "            #Only calculate for the active boids\n",
    "            if self.sett[\"active\"][i]==1:#if the boid is active... then we want to run the calculation...\n",
    "                #Calculate the neighbors for a certain rule\n",
    "                forceSumForBoid= np.zeros(len(self.dat[\"acceleration\"][0]))# just use one of the variables to get the desired dim\n",
    "                for r in range(0,len(self.conf[\"ruleList\"])):# k rules....\n",
    "                    #for each rule compute the neighbors ... find the forces update etc..\n",
    "                    neighborIndxs = tree.query_ball_point(self.dat[\"position\"][i],self.conf[\"ruleDistances\"][r])# O(logn)\n",
    "                    #Calculate the force update by getting the function for the update... (rules limit force... & soft bound)\n",
    "                    update = self.conf[\"ruleList\"][r](i,self.dat,neighborIndxs,self.sett,self.conf,r) \n",
    "                    #Add the force\n",
    "                    forceSumForBoid = np.add(forceSumForBoid,update)\n",
    "                #Now apply the force to the boid ... factoring in the boids mass first\n",
    "                accelUpdate = forceSumForBoid * (1/self.dat[\"mass\"][i])\n",
    "                #Update the acceleration velocity and position\n",
    "                self.dat[\"acceleration\"][i] = accelUpdate\n",
    "                self.dat[\"velocity\"][i] = BoidUtils.limitMag(np.add(self.dat[\"velocity\"][i],self.dat[\"acceleration\"][i]),self.sett[\"maxVelocityMag\"])\n",
    "                self.dat[\"position\"][i] = np.add(self.dat[\"position\"][i],self.dat[\"velocity\"][i])               \n",
    "        #Should we save the data?\n",
    "        if self.rph:\n",
    "            self.ph.append(copy.deepcopy(self.dat[\"position\"]))\n",
    "        #DONE"
   ]
  },
  {
   "cell_type": "markdown",
   "metadata": {},
   "source": [
    "### Controls "
   ]
  },
  {
   "cell_type": "code",
   "execution_count": 13,
   "metadata": {},
   "outputs": [],
   "source": [
    "#=============== Controls Setup\n",
    "#TODO: slider for each rule distance & weight\n",
    "#      scatter button\n",
    "#      3D snapshot ==> pause simulation and use pptk to Draw the 3d frame of the simulation...\n",
    "\n",
    "#well the last hour was spent trying to get sliders to work ... the issue is that the functions can only recieve the \n",
    "#updated value and rerun however the function does not update the value of an outside variable... these are not at \n",
    "#all similar to 'event based' despite it being called such... \n",
    "# FOR NOW: this feature of the code will be put on halt"
   ]
  },
  {
   "cell_type": "markdown",
   "metadata": {},
   "source": [
    "### Simulation Loop"
   ]
  },
  {
   "cell_type": "code",
   "execution_count": 14,
   "metadata": {},
   "outputs": [
    {
     "ename": "ValueError",
     "evalue": "not enough values to unpack (expected 2, got 1)",
     "output_type": "error",
     "traceback": [
      "\u001b[1;31m---------------------------------------------------------------------------\u001b[0m",
      "\u001b[1;31mValueError\u001b[0m                                Traceback (most recent call last)",
      "\u001b[1;32m<ipython-input-14-86e3fe83f7d3>\u001b[0m in \u001b[0;36m<module>\u001b[1;34m\u001b[0m\n\u001b[0;32m      4\u001b[0m \u001b[1;32mwhile\u001b[0m \u001b[1;32mTrue\u001b[0m\u001b[1;33m:\u001b[0m\u001b[1;33m\u001b[0m\u001b[1;33m\u001b[0m\u001b[0m\n\u001b[0;32m      5\u001b[0m     \u001b[1;31m#============================================================================\u001b[0m\u001b[1;33m\u001b[0m\u001b[1;33m\u001b[0m\u001b[1;33m\u001b[0m\u001b[0m\n\u001b[1;32m----> 6\u001b[1;33m     \u001b[0msim\u001b[0m\u001b[1;33m.\u001b[0m\u001b[0mtime_step\u001b[0m\u001b[1;33m(\u001b[0m\u001b[1;33m)\u001b[0m\u001b[1;33m\u001b[0m\u001b[1;33m\u001b[0m\u001b[0m\n\u001b[0m\u001b[0;32m      7\u001b[0m     \u001b[1;31m#============================================================================\u001b[0m\u001b[1;33m\u001b[0m\u001b[1;33m\u001b[0m\u001b[1;33m\u001b[0m\u001b[0m\n\u001b[0;32m      8\u001b[0m     \u001b[1;31m#=== Draw the swarm & Update the screen\u001b[0m\u001b[1;33m\u001b[0m\u001b[1;33m\u001b[0m\u001b[1;33m\u001b[0m\u001b[0m\n",
      "\u001b[1;32m<ipython-input-12-e38bc69b5096>\u001b[0m in \u001b[0;36mtime_step\u001b[1;34m(self)\u001b[0m\n\u001b[0;32m     15\u001b[0m         \u001b[1;31m# Calculate the forces for all of the points returned by the querying criteria O(cnk) (where c = the average # of points returned for each...)\u001b[0m\u001b[1;33m\u001b[0m\u001b[1;33m\u001b[0m\u001b[1;33m\u001b[0m\u001b[0m\n\u001b[0;32m     16\u001b[0m         \u001b[1;31m# Bound the positions,velocities,accelerations O(n)\u001b[0m\u001b[1;33m\u001b[0m\u001b[1;33m\u001b[0m\u001b[1;33m\u001b[0m\u001b[0m\n\u001b[1;32m---> 17\u001b[1;33m         \u001b[0mtree\u001b[0m \u001b[1;33m=\u001b[0m \u001b[0mKDTree\u001b[0m\u001b[1;33m(\u001b[0m\u001b[0mpos\u001b[0m\u001b[1;33m)\u001b[0m\u001b[1;33m\u001b[0m\u001b[1;33m\u001b[0m\u001b[0m\n\u001b[0m\u001b[0;32m     18\u001b[0m \u001b[1;33m\u001b[0m\u001b[0m\n\u001b[0;32m     19\u001b[0m         \u001b[1;31m#Calculate the neighbors for each ruleset for each boid all in parallel?\u001b[0m\u001b[1;33m\u001b[0m\u001b[1;33m\u001b[0m\u001b[1;33m\u001b[0m\u001b[0m\n",
      "\u001b[1;32m~\\AppData\\Local\\Continuum\\anaconda3\\envs\\General\\lib\\site-packages\\scipy\\spatial\\kdtree.py\u001b[0m in \u001b[0;36m__init__\u001b[1;34m(self, data, leafsize)\u001b[0m\n\u001b[0;32m    233\u001b[0m     \u001b[1;32mdef\u001b[0m \u001b[0m__init__\u001b[0m\u001b[1;33m(\u001b[0m\u001b[0mself\u001b[0m\u001b[1;33m,\u001b[0m \u001b[0mdata\u001b[0m\u001b[1;33m,\u001b[0m \u001b[0mleafsize\u001b[0m\u001b[1;33m=\u001b[0m\u001b[1;36m10\u001b[0m\u001b[1;33m)\u001b[0m\u001b[1;33m:\u001b[0m\u001b[1;33m\u001b[0m\u001b[1;33m\u001b[0m\u001b[0m\n\u001b[0;32m    234\u001b[0m         \u001b[0mself\u001b[0m\u001b[1;33m.\u001b[0m\u001b[0mdata\u001b[0m \u001b[1;33m=\u001b[0m \u001b[0mnp\u001b[0m\u001b[1;33m.\u001b[0m\u001b[0masarray\u001b[0m\u001b[1;33m(\u001b[0m\u001b[0mdata\u001b[0m\u001b[1;33m)\u001b[0m\u001b[1;33m\u001b[0m\u001b[1;33m\u001b[0m\u001b[0m\n\u001b[1;32m--> 235\u001b[1;33m         \u001b[0mself\u001b[0m\u001b[1;33m.\u001b[0m\u001b[0mn\u001b[0m\u001b[1;33m,\u001b[0m \u001b[0mself\u001b[0m\u001b[1;33m.\u001b[0m\u001b[0mm\u001b[0m \u001b[1;33m=\u001b[0m \u001b[0mnp\u001b[0m\u001b[1;33m.\u001b[0m\u001b[0mshape\u001b[0m\u001b[1;33m(\u001b[0m\u001b[0mself\u001b[0m\u001b[1;33m.\u001b[0m\u001b[0mdata\u001b[0m\u001b[1;33m)\u001b[0m\u001b[1;33m\u001b[0m\u001b[1;33m\u001b[0m\u001b[0m\n\u001b[0m\u001b[0;32m    236\u001b[0m         \u001b[0mself\u001b[0m\u001b[1;33m.\u001b[0m\u001b[0mleafsize\u001b[0m \u001b[1;33m=\u001b[0m \u001b[0mint\u001b[0m\u001b[1;33m(\u001b[0m\u001b[0mleafsize\u001b[0m\u001b[1;33m)\u001b[0m\u001b[1;33m\u001b[0m\u001b[1;33m\u001b[0m\u001b[0m\n\u001b[0;32m    237\u001b[0m         \u001b[1;32mif\u001b[0m \u001b[0mself\u001b[0m\u001b[1;33m.\u001b[0m\u001b[0mleafsize\u001b[0m \u001b[1;33m<\u001b[0m \u001b[1;36m1\u001b[0m\u001b[1;33m:\u001b[0m\u001b[1;33m\u001b[0m\u001b[1;33m\u001b[0m\u001b[0m\n",
      "\u001b[1;31mValueError\u001b[0m: not enough values to unpack (expected 2, got 1)"
     ]
    }
   ],
   "source": [
    "#================ Simulation Loop\n",
    "graph = createGraph(posMax,posMin,backgroundColor)\n",
    "sim = BoidSimulation(initdata,settings,configurations)\n",
    "while True:\n",
    "    #============================================================================\n",
    "    sim.time_step()\n",
    "    #============================================================================\n",
    "    #=== Draw the swarm & Update the screen\n",
    "    drawBoids(graph,sim.dat[\"position\"],sim.sett[\"active\"],sim.sett[\"active\"],sim.sett[\"active\"],sim.sett[\"boidScale\"],sim.sett[\"boidColor\"])\n",
    "      "
   ]
  },
  {
   "cell_type": "code",
   "execution_count": 1,
   "metadata": {},
   "outputs": [
    {
     "ename": "KeyboardInterrupt",
     "evalue": "",
     "output_type": "error",
     "traceback": [
      "\u001b[1;31m---------------------------------------------------------------------------\u001b[0m",
      "\u001b[1;31mKeyboardInterrupt\u001b[0m                         Traceback (most recent call last)",
      "\u001b[1;32m<ipython-input-1-5a83f80c5417>\u001b[0m in \u001b[0;36m<module>\u001b[1;34m\u001b[0m\n\u001b[0;32m     52\u001b[0m     \u001b[0mvis\u001b[0m\u001b[1;33m.\u001b[0m\u001b[0mpoll_events\u001b[0m\u001b[1;33m(\u001b[0m\u001b[1;33m)\u001b[0m\u001b[1;33m\u001b[0m\u001b[1;33m\u001b[0m\u001b[0m\n\u001b[0;32m     53\u001b[0m     \u001b[0mvis\u001b[0m\u001b[1;33m.\u001b[0m\u001b[0mupdate_renderer\u001b[0m\u001b[1;33m(\u001b[0m\u001b[1;33m)\u001b[0m\u001b[1;33m\u001b[0m\u001b[1;33m\u001b[0m\u001b[0m\n\u001b[1;32m---> 54\u001b[1;33m     \u001b[0mtime\u001b[0m\u001b[1;33m.\u001b[0m\u001b[0msleep\u001b[0m\u001b[1;33m(\u001b[0m\u001b[1;36m0.01\u001b[0m\u001b[1;33m)\u001b[0m\u001b[1;31m# could be interpreted as frames per second assuming the calculation is instant and retrieval is as well\u001b[0m\u001b[1;33m\u001b[0m\u001b[1;33m\u001b[0m\u001b[0m\n\u001b[0m\u001b[0;32m     55\u001b[0m \u001b[1;33m\u001b[0m\u001b[0m\n\u001b[0;32m     56\u001b[0m \u001b[0mvis\u001b[0m\u001b[1;33m.\u001b[0m\u001b[0mdestroy_window\u001b[0m\u001b[1;33m(\u001b[0m\u001b[1;33m)\u001b[0m\u001b[1;33m\u001b[0m\u001b[1;33m\u001b[0m\u001b[0m\n",
      "\u001b[1;31mKeyboardInterrupt\u001b[0m: "
     ]
    }
   ],
   "source": [
    "#Here I have been expiramenting with the code of open3d!  this is a very great visualization library... \n",
    "#it is perfect for viewing the simulation in 3d ... It is fairly good at handeling loads of a little under 1k points in live time\n",
    "#and is only limited by the extra computation done between each frame...\n",
    "#the computation could be done in advance then played back in 3d? ==> HUGE memory requirements but it never needs to be accessed\n",
    "#until later ... \n",
    "#NOTE! jupyter has to be restarted each time this is run because they have a bug in their code that causes GLFW lib to break\n",
    "#easy fix ...just reload ... remember to save...\n",
    "'''\n",
    "import open3d as o3d\n",
    "import numpy as np\n",
    "#generate some neat n times 3 matrix using a variant of sync function\n",
    "x = np.linspace(-3, 3, 401)\n",
    "mesh_x, mesh_y = np.meshgrid(x, x)\n",
    "z = np.sinc((np.power(mesh_x, 2) + np.power(mesh_y, 2)))\n",
    "z_norm = (z - z.min()) / (z.max() - z.min())\n",
    "xyz = np.zeros((np.size(mesh_x), 3))\n",
    "xyz[:, 0] = np.reshape(mesh_x, -1)\n",
    "xyz[:, 1] = np.reshape(mesh_y, -1)\n",
    "xyz[:, 2] = np.reshape(z_norm, -1)\n",
    "print('xyz')\n",
    "print(xyz)\n",
    "\n",
    "# Pass xyz to Open3D.o3d.geometry.PointCloud and visualize\n",
    "pcd = o3d.geometry.PointCloud()\n",
    "pcd.points = o3d.utility.Vector3dVector(xyz)\n",
    "o3d.visualization.draw_geometries([pcd])\n",
    "'''\n",
    "import open3d\n",
    "import time\n",
    "pcd = open3d.PointCloud()\n",
    "\n",
    "vis = open3d.Visualizer()\n",
    "vis.create_window()\n",
    "vis.add_geometry(pcd)\n",
    "\n",
    "\n",
    "render_option = vis.get_render_option()\n",
    "render_option.point_size = 5#0.01\n",
    "#render_option.point_color_option = open3d.visualization.PointColorOption.Normal\n",
    "import numpy as np\n",
    "points = np.random.uniform(low=0,high=500,size=(500,3))#500 data points randomized in 3d space\n",
    "to_reset_view_point = True\n",
    "while True:\n",
    "    points = np.mod(points + np.random.uniform(low=-10,high=10,size=(500,3)),500)#500 data points randomized in 3d spacs\n",
    "    \n",
    "    pcd.points = open3d.Vector3dVector(points)\n",
    "    pcd.colors = open3d.Vector3dVector([[0,0,0] for i in range(0,500)])\n",
    "    vis.update_geometry()\n",
    "    if to_reset_view_point:\n",
    "        vis.reset_view_point(True)\n",
    "        to_reset_view_point = False\n",
    "    vis.poll_events()\n",
    "    vis.update_renderer()\n",
    "    time.sleep(0.01)# could be interpreted as frames per second assuming the calculation is instant and retrieval is as well\n",
    "\n",
    "vis.destroy_window()"
   ]
  },
  {
   "cell_type": "code",
   "execution_count": 2,
   "metadata": {},
   "outputs": [
    {
     "data": {
      "text/plain": [
       "4"
      ]
     },
     "execution_count": 2,
     "metadata": {},
     "output_type": "execute_result"
    }
   ],
   "source": []
  },
  {
   "cell_type": "code",
   "execution_count": null,
   "metadata": {},
   "outputs": [],
   "source": []
  }
 ],
 "metadata": {
  "kernelspec": {
   "display_name": "Python 3",
   "language": "python",
   "name": "python3"
  },
  "language_info": {
   "codemirror_mode": {
    "name": "ipython",
    "version": 3
   },
   "file_extension": ".py",
   "mimetype": "text/x-python",
   "name": "python",
   "nbconvert_exporter": "python",
   "pygments_lexer": "ipython3",
   "version": "3.7.3"
  }
 },
 "nbformat": 4,
 "nbformat_minor": 2
}
