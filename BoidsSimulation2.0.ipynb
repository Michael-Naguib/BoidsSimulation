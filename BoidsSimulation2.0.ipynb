{
 "cells": [
  {
   "cell_type": "markdown",
   "metadata": {},
   "source": [
    "# Boids Simulation 2.0:\n",
    "- The first simulation I wrote worked however it suffered from computational complexity O(n^2) for the distance calculations\n",
    "- This code uses a different programming paradigm so that it can take advantage of certain computational advantages such as the parallelism of the GPU, Multiprocessing on multiple CPU cores, more efficient algorithms such as the Barnes Hut and more useful datastructures such as the KDTree. \n",
    "- Code by Michael Sherif naguib 7/22/19"
   ]
  },
  {
   "cell_type": "code",
   "execution_count": null,
   "metadata": {},
   "outputs": [],
   "source": [
    "#imports (may take some time...)\n",
    "from __future__ import print_function\n",
    "from ipywidgets import interact, interactive, fixed, interact_manual\n",
    "from scipy import spatial.KDTree as KDTree\n",
    "import ipywidgets as widgets\n",
    "from numba import cuda, jit\n",
    "from tkinter import *\n",
    "import math\n",
    "import random\n",
    "import tqdm\n",
    "import pptk\n",
    "phi = (1 + sqrt(5))/2"
   ]
  },
  {
   "cell_type": "code",
   "execution_count": null,
   "metadata": {},
   "outputs": [],
   "source": [
    "#================ SETTINGS\n",
    "#=== Boid Quantity\n",
    "boidQuantity = int(math.pow(10,2))#                                      Quantity of boids in simulation\n",
    "#=== Screen Display\n",
    "height = 400 #                                                           Screen height \n",
    "dimensions = 3#                                                          Dimensions ex. 2D x,y 3D x,y,z (inclusive..)\n",
    "posMax = np.array([height,int(height*phi),int(height*phi)])#             World bounds for Positions x,y,z max \n",
    "posMin = np.zeros(3)#                                                    x,y,z min ... use golden ratio for nice view\n",
    "assert(posMin.size == posMax.size == dimensions)#         (err check)\n",
    "#=== Kinematics \n",
    "maxForceMag = 2*math.pow(math.PI,2)#                                     Maximum magnitude for force update\n",
    "maxAccelMag = math.pow(math.PI,2)#                                       Maximum magnitude for acceleration update\n",
    "maxVelMag = math.Pi#                                                     Maximum magnitude for velocity update\n",
    "#=== Init Kinematics Rand\n",
    "pos = []\n",
    "distanceMatrix = np.zeros(boidQuantity,boidQuantity)#                    init a matrix of 0's for positions...                   \n",
    "vel = [np.random.rand(boidsQuantity) for _ in range(dimensions)]#        init random vals on 0,1\n",
    "accel = [np.random.rand(boidsQuantity) for _ in range(dimensions)]#      init random vals on 0,1\n",
    "for i in range(dimensions):#                                             init random positions in bound\n",
    "    pos.append(np.random.uniform(low=posMin[i],high=posMax[i],size=boidQuantity))\n",
    "for b in range(boids_quantity):#                                         init random velocities \n",
    "    #Convert to Unit Vector and scale according to random withine max\n",
    "    l = sqrt(sum([math.pow(vel[b][i]) for i in range(dimensions)]))\n",
    "    r = random.randint(0,maxVelMag)\n",
    "    for i in range(dimensions):\n",
    "        vel[b][i] = (vel[b][i]/l)*r       \n",
    "for b in range(boids_quantity):#                                         init random accelerations \n",
    "    #Convert to Unit Vector and scale according to random withine max\n",
    "    l = sqrt(sum([math.pow(accel[b][i]) for i in range(dimensions)]))\n",
    "    r = random.randint(0,maxAccelMag)\n",
    "    for i in range(dimensions):\n",
    "        accel[b][i] = (accel[b][i]/l)*r\n",
    "for _ in range(0,boidQuantity):#                                         init positions\n",
    "    pos.append([random.randint(posMin[i],posMax[i]) for i in range(0,len(dimensions))])\n",
    "#=== Boid Properties\n",
    "mass = np.random.uniform(low=0.0001,high=2.0,size=boidQuantity)#         sets the mass of the boid\n",
    "active = np.random.randint(0,high=2,boidQuantity,dtype=bool)#            an easy way to dynamically set a boid as active in the simulation\n",
    "geneCountPer = 5#                                                        specifies allocation for the gene...\n",
    "genomes = np.random.rand(boidQuantity,geneCountPer)#                     so we can run a genetic algorithm\n",
    "boidScale = 1#                                                           the size of the dot to draw representing it\n",
    "#=== Rule Distances\n",
    "ruleCount = 3\n",
    "maxDist = (1/2)*(sqrt(sum[math.pow(posMax[i]-posMin[i]) for i in range(dimensions)]))# max dist = world bound max /2 because it wraps\n",
    "minDist = 1\n",
    "ruleDistances = np.random.uniform(low=minDist,high=maxDist,size=(boidQuantity,ruleCount))\n",
    "#=== Screen Settings\n",
    "backgroundColor = 'white'\n",
    "boidColor = 'black'"
   ]
  },
  {
   "cell_type": "code",
   "execution_count": null,
   "metadata": {},
   "outputs": [],
   "source": [
    "#================ Screen Setup\n",
    "root = Tk()\n",
    "_width,_height = (posMax[0]-posMin[0]),(posMax[1]-posMax[1])\n",
    "root.geometry('%dx%d+%d+%d' % (_width, _height, (root.winfo_screenwidth() - _width) / 2, (root.winfo_screenheight() - _height) / 2))\n",
    "root.bind_all('<Escape>', lambda event: event.widget.quit())\n",
    "graph = Canvas(root, width=_width, height=_height, background=backgroundColor)\n",
    "graph.pack()"
   ]
  },
  {
   "cell_type": "code",
   "execution_count": null,
   "metadata": {},
   "outputs": [],
   "source": [
    "#=============== Rule Definitions\n",
    "#TODO"
   ]
  },
  {
   "cell_type": "code",
   "execution_count": null,
   "metadata": {},
   "outputs": [],
   "source": [
    "#================ Rule Setup\n",
    "ruleList = []\n",
    "ruleDistances=[]\n",
    "ruleWeights = []\n",
    "\n",
    "class Rules():\n",
    "    def __init__(self):\n",
    "        self.ruleList=[]\n",
    "        self.ruleDistances=[]\n",
    "        self.ruleWeights=[]\n",
    "    @staticmethod\n",
    "    def softmax(inputList,b=1):\n",
    "        #We want the forces to interact in a relative manner ==> i.e one force is stronger than the other to a certain degree\n",
    "        #Therfore we can use the softmax function to convert our forces to a distribution\n",
    "        #Returns a new list containing the results of the softmax function on each... b sets for different bases default e=> b=1\n",
    "        expSum = sum([math.exp(inputList[i]) for i in range(0,len(inputList))])#Sum e^x_i\n",
    "        #note! could cache the exp calculations for e^x_i ... might save computationally especially if x_i is 'large'\n",
    "        return [math.exp(inputList[i])/expSum for i in range(0,len(inputList))]# x_i --> e^x_i/(sum)     "
   ]
  },
  {
   "cell_type": "code",
   "execution_count": null,
   "metadata": {},
   "outputs": [],
   "source": [
    "#=============== Controls Setup\n",
    "#TODO: slider for each rule distance & weight\n",
    "#      scatter button\n",
    "#      3D snapshot ==> pause simulation and use pptk to Draw the 3d frame of the simulation...\n",
    "\n",
    "\n",
    "\n",
    "\n"
   ]
  },
  {
   "cell_type": "code",
   "execution_count": null,
   "metadata": {},
   "outputs": [],
   "source": [
    "#================ Simulation Loop\n",
    "#create the Rules Object\n",
    "while True:\n",
    "    graph.delete(ALL)#                  Clear the screen\n",
    "    #============================================================================\n",
    "    #=== Calculate the next timestep for the swarm\n",
    "    \n",
    "    #TODO\n",
    "    # build KD tree O(nlogn)\n",
    "    # Query tree for each boid(n boids) for each rule (k rules) ==> O(nklogn) < O(n^2)  \n",
    "    #                                   (note k is a constant and for most k where k is small)\n",
    "    # Calculate the forces for all of the points returned by the querying criteria O(cnk) (where c = the average # of points returned for each...)\n",
    "    # Bound the positions,velocities,accelerations O(n)\n",
    "    \n",
    "    \n",
    "    \n",
    "    #============================================================================\n",
    "    #=== Draw the swarm\n",
    "    for p in pos:#for every position ==> O(n)\n",
    "        #draw a circle whose center is at the current position of the boid and with a radius of the scale factor..\n",
    "        d2Cord = (p[0] + boidScale,#lower left x     the coordinates for the bounding corners of the circle\n",
    "                  p[1] +boidScale,#lower left y      this keeps the boid in the center\n",
    "                  p[0] - boidScale,#upper right x\n",
    "                  p[1] - boidScale)#upper right y\n",
    "        #draw the boid ... note using syntatic sugar for position update\n",
    "        graph.create_oval(d2Cord,fill=boidColor)\n",
    "    #============================================================================\n",
    "    graph.update()#                     Update the screen"
   ]
  },
  {
   "cell_type": "code",
   "execution_count": null,
   "metadata": {},
   "outputs": [],
   "source": [
    "def f(x):\n",
    "    return x\n",
    "interact(f, x=widgets.IntSlider(min=-10, max=30, step=1, value=10));"
   ]
  },
  {
   "cell_type": "code",
   "execution_count": null,
   "metadata": {},
   "outputs": [],
   "source": []
  }
 ],
 "metadata": {
  "kernelspec": {
   "display_name": "Python 3",
   "language": "python",
   "name": "python3"
  },
  "language_info": {
   "codemirror_mode": {
    "name": "ipython",
    "version": 3
   },
   "file_extension": ".py",
   "mimetype": "text/x-python",
   "name": "python",
   "nbconvert_exporter": "python",
   "pygments_lexer": "ipython3",
   "version": "3.6.8"
  }
 },
 "nbformat": 4,
 "nbformat_minor": 2
}
